{
 "cells": [
  {
   "cell_type": "markdown",
   "id": "feaeacff",
   "metadata": {},
   "source": [
    "# Flag Detector"
   ]
  },
  {
   "cell_type": "markdown",
   "id": "8a43398d",
   "metadata": {},
   "source": [
    "## Importing the libraries"
   ]
  },
  {
   "cell_type": "code",
   "execution_count": 1,
   "id": "2b4c17f7",
   "metadata": {},
   "outputs": [
    {
     "name": "stderr",
     "output_type": "stream",
     "text": [
      "/var/folders/5s/drh5kr3d4wj7hkt180wf48mc0000gn/T/ipykernel_4501/920603148.py:4: DeprecationWarning: `import kerastuner` is deprecated, please use `import keras_tuner`.\n",
      "  from kerastuner import HyperModel\n"
     ]
    }
   ],
   "source": [
    "import tensorflow as tf\n",
    "from tensorflow.keras.preprocessing.image import ImageDataGenerator\n",
    "from sklearn.datasets import load_files\n",
    "from kerastuner import HyperModel\n",
    "from keras_tuner.tuners import Hyperband"
   ]
  },
  {
   "cell_type": "markdown",
   "id": "fd1992b2",
   "metadata": {},
   "source": [
    "## Getting class names"
   ]
  },
  {
   "cell_type": "code",
   "execution_count": 2,
   "id": "0ab5486a",
   "metadata": {},
   "outputs": [
    {
     "name": "stdout",
     "output_type": "stream",
     "text": [
      "['Argentina', 'Belgium', 'Brazil', 'Columbia', 'Croatia', 'Denmark', 'England', 'France', 'Japan', 'Mexico', 'Portugal', 'Russia', 'Spain', 'Sweden', 'Switzerland', 'Uruguay']\n"
     ]
    }
   ],
   "source": [
    "files = load_files('./dataset/training_set', load_content= False)\n",
    "total_countries = len(files.target_names)\n",
    "print(files.target_names)"
   ]
  },
  {
   "cell_type": "markdown",
   "id": "ad5c13c1",
   "metadata": {},
   "source": [
    "## Preprocessing the Training set"
   ]
  },
  {
   "cell_type": "code",
   "execution_count": 3,
   "id": "ce627f05",
   "metadata": {},
   "outputs": [
    {
     "name": "stdout",
     "output_type": "stream",
     "text": [
      "Found 587 images belonging to 16 classes.\n"
     ]
    }
   ],
   "source": [
    "train_datagen = ImageDataGenerator(rescale = 1./255,\n",
    "                                   shear_range = 0.2,\n",
    "                                   zoom_range = 0.2,\n",
    "                                   horizontal_flip = True)\n",
    "\n",
    "training_set = train_datagen.flow_from_directory('dataset/training_set',\n",
    "                                                 target_size = (64, 64),\n",
    "                                                 classes = files.target_names,\n",
    "                                                 batch_size = 32,\n",
    "                                                 class_mode=\"categorical\")"
   ]
  },
  {
   "cell_type": "markdown",
   "id": "3d1881ad",
   "metadata": {},
   "source": [
    "## Preprocessing the Test set"
   ]
  },
  {
   "cell_type": "code",
   "execution_count": 4,
   "id": "f3f55f27",
   "metadata": {},
   "outputs": [
    {
     "name": "stdout",
     "output_type": "stream",
     "text": [
      "Found 65 images belonging to 16 classes.\n"
     ]
    }
   ],
   "source": [
    "test_datagen = ImageDataGenerator(rescale = 1./255)\n",
    "\n",
    "test_set = test_datagen.flow_from_directory('dataset/test_set',\n",
    "                                            target_size = (64, 64),\n",
    "                                            classes = files.target_names,\n",
    "                                            batch_size = 32,\n",
    "                                            class_mode=\"categorical\")"
   ]
  },
  {
   "cell_type": "markdown",
   "id": "8e1a1976",
   "metadata": {},
   "source": [
    "## Hyper Model Class"
   ]
  },
  {
   "cell_type": "code",
   "execution_count": 5,
   "id": "54165633",
   "metadata": {},
   "outputs": [],
   "source": [
    "class CNNHyperModel(HyperModel):\n",
    "    def __init__(self, input_shape, num_classes):\n",
    "        self.input_shape = input_shape\n",
    "        self.num_classes = num_classes\n",
    "\n",
    "    def build(self, hp):\n",
    "        cnn = tf.keras.models.Sequential()\n",
    "\n",
    "        cnn.add(tf.keras.layers.Conv2D(filters=32, kernel_size=3, activation='relu', input_shape=self.input_shape))\n",
    "        cnn.add(tf.keras.layers.MaxPool2D(pool_size=2, strides=2))\n",
    "        \n",
    "        cnn.add(tf.keras.layers.Conv2D(\n",
    "            filters=hp.Choice(\n",
    "                'num_filters',\n",
    "                values=[32, 64],\n",
    "                default=64,\n",
    "            ),\n",
    "            kernel_size=3, \n",
    "            activation='relu'))\n",
    "        cnn.add(tf.keras.layers.MaxPool2D(pool_size=2, strides=2))\n",
    "        \n",
    "        cnn.add(tf.keras.layers.Flatten())\n",
    "        \n",
    "        cnn.add(tf.keras.layers.Dense(\n",
    "            units=hp.Int(\n",
    "                'units',\n",
    "                min_value=32,\n",
    "                max_value=512,\n",
    "                step=32,\n",
    "                default=128\n",
    "            ),\n",
    "            activation=hp.Choice(\n",
    "                'dense_activation',\n",
    "                values=['relu', 'tanh', 'sigmoid'],\n",
    "                default='relu'\n",
    "            )\n",
    "        ))\n",
    "        \n",
    "        cnn.add(tf.keras.layers.Dense(\n",
    "            units=self.num_classes,\n",
    "            activation=hp.Choice(\n",
    "                'dense_output_activation',\n",
    "                values=['softmax', 'sigmoid'],\n",
    "                default='sigmoid'\n",
    "            )\n",
    "        ))\n",
    "        \n",
    "        cnn.compile(optimizer = 'adam', loss = 'mean_squared_error', metrics = ['accuracy'])\n",
    "        \n",
    "        return cnn"
   ]
  },
  {
   "cell_type": "code",
   "execution_count": 6,
   "id": "ca3f76a6",
   "metadata": {},
   "outputs": [],
   "source": [
    "hypermodel = CNNHyperModel(input_shape=[64, 64, 3], num_classes=total_countries)"
   ]
  },
  {
   "cell_type": "markdown",
   "id": "6a90691c",
   "metadata": {},
   "source": [
    "## Hyperparameter tuning the model"
   ]
  },
  {
   "cell_type": "code",
   "execution_count": 7,
   "id": "ad32a648",
   "metadata": {},
   "outputs": [
    {
     "name": "stdout",
     "output_type": "stream",
     "text": [
      "INFO:tensorflow:Reloading Oracle from existing project hyperband/flag_detector1/oracle.json\n",
      "INFO:tensorflow:Reloading Tuner from hyperband/flag_detector1/tuner0.json\n"
     ]
    }
   ],
   "source": [
    "tuner = Hyperband(\n",
    "    hypermodel,\n",
    "    max_epochs=25,\n",
    "    objective='val_accuracy',\n",
    "    seed=1,\n",
    "    executions_per_trial=2,\n",
    "    directory='hyperband',\n",
    "    project_name='flag_detector1'\n",
    ")"
   ]
  },
  {
   "cell_type": "code",
   "execution_count": 8,
   "id": "c8a0cddf",
   "metadata": {},
   "outputs": [
    {
     "name": "stdout",
     "output_type": "stream",
     "text": [
      "INFO:tensorflow:Oracle triggered exit\n"
     ]
    }
   ],
   "source": [
    "tuner.search(x=training_set, validation_data=test_set, epochs=25)"
   ]
  },
  {
   "cell_type": "code",
   "execution_count": 9,
   "id": "ce15a54d",
   "metadata": {},
   "outputs": [
    {
     "name": "stdout",
     "output_type": "stream",
     "text": [
      "Results summary\n",
      "Results in hyperband/flag_detector1\n",
      "Showing 10 best trials\n",
      "<keras_tuner.engine.objective.Objective object at 0x15cb1d520>\n",
      "Trial summary\n",
      "Hyperparameters:\n",
      "num_filters: 64\n",
      "units: 96\n",
      "dense_activation: tanh\n",
      "dense_output_activation: sigmoid\n",
      "tuner/epochs: 25\n",
      "tuner/initial_epoch: 0\n",
      "tuner/bracket: 0\n",
      "tuner/round: 0\n",
      "Score: 0.9230769276618958\n",
      "Trial summary\n",
      "Hyperparameters:\n",
      "num_filters: 64\n",
      "units: 448\n",
      "dense_activation: tanh\n",
      "dense_output_activation: sigmoid\n",
      "tuner/epochs: 25\n",
      "tuner/initial_epoch: 9\n",
      "tuner/bracket: 2\n",
      "tuner/round: 2\n",
      "tuner/trial_id: 0012\n",
      "Score: 0.9230769276618958\n",
      "Trial summary\n",
      "Hyperparameters:\n",
      "num_filters: 64\n",
      "units: 288\n",
      "dense_activation: sigmoid\n",
      "dense_output_activation: sigmoid\n",
      "tuner/epochs: 25\n",
      "tuner/initial_epoch: 0\n",
      "tuner/bracket: 0\n",
      "tuner/round: 0\n",
      "Score: 0.9230769276618958\n",
      "Trial summary\n",
      "Hyperparameters:\n",
      "num_filters: 32\n",
      "units: 416\n",
      "dense_activation: relu\n",
      "dense_output_activation: sigmoid\n",
      "tuner/epochs: 25\n",
      "tuner/initial_epoch: 0\n",
      "tuner/bracket: 0\n",
      "tuner/round: 0\n",
      "Score: 0.9230769276618958\n",
      "Trial summary\n",
      "Hyperparameters:\n",
      "num_filters: 64\n",
      "units: 480\n",
      "dense_activation: tanh\n",
      "dense_output_activation: sigmoid\n",
      "tuner/epochs: 25\n",
      "tuner/initial_epoch: 9\n",
      "tuner/bracket: 1\n",
      "tuner/round: 1\n",
      "tuner/trial_id: 0020\n",
      "Score: 0.9230769276618958\n",
      "Trial summary\n",
      "Hyperparameters:\n",
      "num_filters: 32\n",
      "units: 480\n",
      "dense_activation: tanh\n",
      "dense_output_activation: softmax\n",
      "tuner/epochs: 25\n",
      "tuner/initial_epoch: 9\n",
      "tuner/bracket: 1\n",
      "tuner/round: 1\n",
      "tuner/trial_id: 0022\n",
      "Score: 0.9230769276618958\n",
      "Trial summary\n",
      "Hyperparameters:\n",
      "num_filters: 32\n",
      "units: 128\n",
      "dense_activation: relu\n",
      "dense_output_activation: sigmoid\n",
      "tuner/epochs: 25\n",
      "tuner/initial_epoch: 0\n",
      "tuner/bracket: 0\n",
      "tuner/round: 0\n",
      "Score: 0.9076923131942749\n",
      "Trial summary\n",
      "Hyperparameters:\n",
      "num_filters: 32\n",
      "units: 480\n",
      "dense_activation: tanh\n",
      "dense_output_activation: softmax\n",
      "tuner/epochs: 9\n",
      "tuner/initial_epoch: 0\n",
      "tuner/bracket: 1\n",
      "tuner/round: 0\n",
      "Score: 0.892307698726654\n",
      "Trial summary\n",
      "Hyperparameters:\n",
      "num_filters: 64\n",
      "units: 480\n",
      "dense_activation: tanh\n",
      "dense_output_activation: sigmoid\n",
      "tuner/epochs: 9\n",
      "tuner/initial_epoch: 0\n",
      "tuner/bracket: 1\n",
      "tuner/round: 0\n",
      "Score: 0.8846153914928436\n",
      "Trial summary\n",
      "Hyperparameters:\n",
      "num_filters: 64\n",
      "units: 416\n",
      "dense_activation: tanh\n",
      "dense_output_activation: softmax\n",
      "tuner/epochs: 9\n",
      "tuner/initial_epoch: 3\n",
      "tuner/bracket: 2\n",
      "tuner/round: 1\n",
      "tuner/trial_id: 0001\n",
      "Score: 0.8846153914928436\n"
     ]
    }
   ],
   "source": [
    "# Show a summary of the search\n",
    "tuner.results_summary()\n",
    "\n",
    "# Retrieve the best model.\n",
    "best_model = tuner.get_best_models(num_models=1)[0]"
   ]
  },
  {
   "cell_type": "markdown",
   "id": "6e756ad6",
   "metadata": {},
   "source": [
    "### Evaluate best model"
   ]
  },
  {
   "cell_type": "code",
   "execution_count": 12,
   "id": "ebb4582d",
   "metadata": {},
   "outputs": [
    {
     "name": "stdout",
     "output_type": "stream",
     "text": [
      "19/19 [==============================] - 0s 25ms/step - loss: 0.0068 - accuracy: 0.9625\n",
      "\n",
      " Mean Squared Error:0.006767168641090393\n"
     ]
    }
   ],
   "source": [
    "# Evaluate the best model.\n",
    "loss, _ = best_model.evaluate(x = training_set)\n",
    "\n",
    "print(\"\\n Mean Squared Error:\" + str(loss))"
   ]
  },
  {
   "cell_type": "markdown",
   "id": "d416eb73",
   "metadata": {},
   "source": [
    "### Export best model"
   ]
  },
  {
   "cell_type": "code",
   "execution_count": 11,
   "id": "0f37bf34",
   "metadata": {},
   "outputs": [],
   "source": [
    "best_model.save('flag_detector.h5')"
   ]
  }
 ],
 "metadata": {
  "kernelspec": {
   "display_name": "Python 3 (ipykernel)",
   "language": "python",
   "name": "python3"
  },
  "language_info": {
   "codemirror_mode": {
    "name": "ipython",
    "version": 3
   },
   "file_extension": ".py",
   "mimetype": "text/x-python",
   "name": "python",
   "nbconvert_exporter": "python",
   "pygments_lexer": "ipython3",
   "version": "3.8.10"
  }
 },
 "nbformat": 4,
 "nbformat_minor": 5
}
